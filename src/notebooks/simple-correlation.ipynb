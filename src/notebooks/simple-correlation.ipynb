{
 "cells": [
  {
   "cell_type": "code",
   "execution_count": 45,
   "metadata": {},
   "outputs": [],
   "source": [
    "import pandas as pd\n",
    "import pickle\n",
    "import matplotlib.pyplot as plt\n",
    "from sklearn.model_selection import train_test_split\n",
    "from sklearn.linear_model import LinearRegression\n",
    "import numpy as np\n"
   ]
  },
  {
   "cell_type": "code",
   "execution_count": 46,
   "metadata": {},
   "outputs": [
    {
     "ename": "FileNotFoundError",
     "evalue": "[Errno 2] No such file or directory: '../transactions.pkl'",
     "output_type": "error",
     "traceback": [
      "\u001b[0;31m---------------------------------------------------------------------------\u001b[0m",
      "\u001b[0;31mFileNotFoundError\u001b[0m                         Traceback (most recent call last)",
      "Cell \u001b[0;32mIn[46], line 1\u001b[0m\n\u001b[0;32m----> 1\u001b[0m txs \u001b[38;5;241m=\u001b[39m \u001b[43mpd\u001b[49m\u001b[38;5;241;43m.\u001b[39;49m\u001b[43mread_pickle\u001b[49m\u001b[43m(\u001b[49m\u001b[38;5;124;43m'\u001b[39;49m\u001b[38;5;124;43m../transactions.pkl\u001b[39;49m\u001b[38;5;124;43m'\u001b[39;49m\u001b[43m)\u001b[49m\n",
      "File \u001b[0;32m~/dev/DCI-Bitcoin-Fee-Estimation/venv/lib/python3.10/site-packages/pandas/io/pickle.py:185\u001b[0m, in \u001b[0;36mread_pickle\u001b[0;34m(filepath_or_buffer, compression, storage_options)\u001b[0m\n\u001b[1;32m    123\u001b[0m \u001b[38;5;250m\u001b[39m\u001b[38;5;124;03m\"\"\"\u001b[39;00m\n\u001b[1;32m    124\u001b[0m \u001b[38;5;124;03mLoad pickled pandas object (or any object) from file.\u001b[39;00m\n\u001b[1;32m    125\u001b[0m \n\u001b[0;32m   (...)\u001b[0m\n\u001b[1;32m    182\u001b[0m \u001b[38;5;124;03m4    4    9\u001b[39;00m\n\u001b[1;32m    183\u001b[0m \u001b[38;5;124;03m\"\"\"\u001b[39;00m\n\u001b[1;32m    184\u001b[0m excs_to_catch \u001b[38;5;241m=\u001b[39m (\u001b[38;5;167;01mAttributeError\u001b[39;00m, \u001b[38;5;167;01mImportError\u001b[39;00m, \u001b[38;5;167;01mModuleNotFoundError\u001b[39;00m, \u001b[38;5;167;01mTypeError\u001b[39;00m)\n\u001b[0;32m--> 185\u001b[0m \u001b[38;5;28;01mwith\u001b[39;00m \u001b[43mget_handle\u001b[49m\u001b[43m(\u001b[49m\n\u001b[1;32m    186\u001b[0m \u001b[43m    \u001b[49m\u001b[43mfilepath_or_buffer\u001b[49m\u001b[43m,\u001b[49m\n\u001b[1;32m    187\u001b[0m \u001b[43m    \u001b[49m\u001b[38;5;124;43m\"\u001b[39;49m\u001b[38;5;124;43mrb\u001b[39;49m\u001b[38;5;124;43m\"\u001b[39;49m\u001b[43m,\u001b[49m\n\u001b[1;32m    188\u001b[0m \u001b[43m    \u001b[49m\u001b[43mcompression\u001b[49m\u001b[38;5;241;43m=\u001b[39;49m\u001b[43mcompression\u001b[49m\u001b[43m,\u001b[49m\n\u001b[1;32m    189\u001b[0m \u001b[43m    \u001b[49m\u001b[43mis_text\u001b[49m\u001b[38;5;241;43m=\u001b[39;49m\u001b[38;5;28;43;01mFalse\u001b[39;49;00m\u001b[43m,\u001b[49m\n\u001b[1;32m    190\u001b[0m \u001b[43m    \u001b[49m\u001b[43mstorage_options\u001b[49m\u001b[38;5;241;43m=\u001b[39;49m\u001b[43mstorage_options\u001b[49m\u001b[43m,\u001b[49m\n\u001b[1;32m    191\u001b[0m \u001b[43m\u001b[49m\u001b[43m)\u001b[49m \u001b[38;5;28;01mas\u001b[39;00m handles:\n\u001b[1;32m    192\u001b[0m     \u001b[38;5;66;03m# 1) try standard library Pickle\u001b[39;00m\n\u001b[1;32m    193\u001b[0m     \u001b[38;5;66;03m# 2) try pickle_compat (older pandas version) to handle subclass changes\u001b[39;00m\n\u001b[1;32m    194\u001b[0m     \u001b[38;5;66;03m# 3) try pickle_compat with latin-1 encoding upon a UnicodeDecodeError\u001b[39;00m\n\u001b[1;32m    196\u001b[0m     \u001b[38;5;28;01mtry\u001b[39;00m:\n\u001b[1;32m    197\u001b[0m         \u001b[38;5;66;03m# TypeError for Cython complaints about object.__new__ vs Tick.__new__\u001b[39;00m\n\u001b[1;32m    198\u001b[0m         \u001b[38;5;28;01mtry\u001b[39;00m:\n",
      "File \u001b[0;32m~/dev/DCI-Bitcoin-Fee-Estimation/venv/lib/python3.10/site-packages/pandas/io/common.py:882\u001b[0m, in \u001b[0;36mget_handle\u001b[0;34m(path_or_buf, mode, encoding, compression, memory_map, is_text, errors, storage_options)\u001b[0m\n\u001b[1;32m    873\u001b[0m         handle \u001b[38;5;241m=\u001b[39m \u001b[38;5;28mopen\u001b[39m(\n\u001b[1;32m    874\u001b[0m             handle,\n\u001b[1;32m    875\u001b[0m             ioargs\u001b[38;5;241m.\u001b[39mmode,\n\u001b[0;32m   (...)\u001b[0m\n\u001b[1;32m    878\u001b[0m             newline\u001b[38;5;241m=\u001b[39m\u001b[38;5;124m\"\u001b[39m\u001b[38;5;124m\"\u001b[39m,\n\u001b[1;32m    879\u001b[0m         )\n\u001b[1;32m    880\u001b[0m     \u001b[38;5;28;01melse\u001b[39;00m:\n\u001b[1;32m    881\u001b[0m         \u001b[38;5;66;03m# Binary mode\u001b[39;00m\n\u001b[0;32m--> 882\u001b[0m         handle \u001b[38;5;241m=\u001b[39m \u001b[38;5;28;43mopen\u001b[39;49m\u001b[43m(\u001b[49m\u001b[43mhandle\u001b[49m\u001b[43m,\u001b[49m\u001b[43m \u001b[49m\u001b[43mioargs\u001b[49m\u001b[38;5;241;43m.\u001b[39;49m\u001b[43mmode\u001b[49m\u001b[43m)\u001b[49m\n\u001b[1;32m    883\u001b[0m     handles\u001b[38;5;241m.\u001b[39mappend(handle)\n\u001b[1;32m    885\u001b[0m \u001b[38;5;66;03m# Convert BytesIO or file objects passed with an encoding\u001b[39;00m\n",
      "\u001b[0;31mFileNotFoundError\u001b[0m: [Errno 2] No such file or directory: '../transactions.pkl'"
     ]
    }
   ],
   "source": [
    "txs = pd.read_pickle('../../data/transactions.pkl')"
   ]
  },
  {
   "cell_type": "code",
   "execution_count": null,
   "metadata": {},
   "outputs": [],
   "source": [
    "# Simple questions to ensure our data is sane before we start building models\n",
    "\n",
    "# 1. How many transactions are in the dataset?\n",
    "print(f\"Number of transactions: {len(txs)}\")\n",
    "\n",
    "# 2. What is the average wait time?\n",
    "avg_waittime = txs['waittime'].mean()\n",
    "print(f\"Average wait time: {int(avg_waittime)} seconds\")\n",
    "\n",
    "# 3. What is the average mempool size?\n",
    "avg_mempool_size = txs['mempool_size'].mean()\n",
    "print(f\"Average mempool size: {int(avg_mempool_size)}\")\n",
    "\n",
    "# 4. time window for txs\n",
    "min_found_at = pd.to_datetime(txs['found_at'].min(), unit='s')\n",
    "max_found_at = pd.to_datetime(txs['found_at'].max(), unit='s')\n",
    "print(f\"Time window for txs: {min_found_at} to {max_found_at}\")\n",
    "\n"
   ]
  },
  {
   "cell_type": "code",
   "execution_count": null,
   "metadata": {},
   "outputs": [],
   "source": [
    "# Plot distribution of wait times\n",
    "plt.figure(figsize=(10, 6))\n",
    "plt.hist(txs['waittime'], bins=50, edgecolor='black')\n",
    "plt.title('Distribution of Wait Times')\n",
    "plt.xlabel('Wait Time (seconds)')\n",
    "plt.ylabel('Frequency')\n",
    "plt.show()"
   ]
  },
  {
   "cell_type": "code",
   "execution_count": null,
   "metadata": {},
   "outputs": [],
   "source": [
    "# Plot the distribution of mempool sizes\n",
    "plt.figure(figsize=(10, 6))\n",
    "plt.hist(txs['mempool_size'], bins=50, edgecolor='black')\n",
    "plt.title('Distribution of Mempool Sizes')\n",
    "plt.xlabel('Mempool Size')\n",
    "plt.ylabel('Frequency')\n",
    "plt.show()"
   ]
  },
  {
   "cell_type": "code",
   "execution_count": null,
   "metadata": {},
   "outputs": [],
   "source": [
    "# Plot mempool tx count\n",
    "plt.figure(figsize=(10, 6))\n",
    "plt.hist(txs['mempool_tx_count'], bins=50, edgecolor='black')\n",
    "plt.title('Distribution of Mempool Tx Counts')\n",
    "plt.xlabel('Mempool Tx Count')\n",
    "plt.ylabel('Frequency')\n",
    "plt.show()\n"
   ]
  },
  {
   "cell_type": "code",
   "execution_count": null,
   "metadata": {},
   "outputs": [],
   "source": [
    "# Plot mempool size vs waittime\n",
    "plt.figure(figsize=(10, 6))\n",
    "plt.scatter(txs['mempool_tx_count'], txs['waittime'], alpha=0.3)\n",
    "plt.xlabel('Mempool Tx Count')\n",
    "plt.ylabel('Wait Time (seconds)')\n",
    "plt.title('Mempool Tx Count vs Wait Time')\n",
    "plt.show()"
   ]
  },
  {
   "cell_type": "code",
   "execution_count": 42,
   "metadata": {},
   "outputs": [],
   "source": [
    "# Lets remove the weird tail of the distribution\n",
    "txs = txs[txs['mempool_tx_count'] <= 14_000]"
   ]
  },
  {
   "cell_type": "code",
   "execution_count": null,
   "metadata": {},
   "outputs": [],
   "source": [
    "# Compute heat map of mempool tx count vs waittime\n",
    "plt.figure(figsize=(10, 6))\n",
    "plt.scatter(txs['mempool_tx_count'], txs['waittime'], alpha=0.3)\n",
    "plt.xlabel('Mempool Tx Count')\n",
    "plt.ylabel('Wait Time (seconds)')\n",
    "plt.title('Mempool Tx Count vs Wait Time')\n",
    "plt.show()"
   ]
  },
  {
   "cell_type": "code",
   "execution_count": null,
   "metadata": {},
   "outputs": [],
   "source": [
    "from sklearn.neighbors import KNeighborsRegressor\n",
    "\n",
    "X = txs[['mempool_tx_count']]\n",
    "y = txs['waittime']\n",
    "\n",
    "# Fit KNN regressor (acts like a smoother)\n",
    "knn = KNeighborsRegressor(n_neighbors=25, weights='distance')  # try tuning n_neighbors\n",
    "knn.fit(X, y)\n",
    "\n",
    "# Predict over a sorted X for a smooth curve\n",
    "X_plot = np.linspace(X.min(), X.max(), 500).reshape(-1, 1)\n",
    "y_smooth = knn.predict(X_plot)\n",
    "\n",
    "# Plot\n",
    "plt.figure(figsize=(10, 6))\n",
    "plt.scatter(X, y, alpha=0.3, label=\"Raw Data\")\n",
    "plt.plot(X_plot, y_smooth, color='red', linewidth=2, label=\"KNN Smoothed\")\n",
    "plt.xlabel(\"Mempool Tx Count\")\n",
    "plt.ylabel(\"Wait Time (seconds)\")\n",
    "plt.title(\"Smoothed Trend of Wait Time vs Mempool Tx Count\")\n",
    "plt.legend()\n",
    "plt.grid(True)\n",
    "plt.show()\n"
   ]
  },
  {
   "cell_type": "code",
   "execution_count": null,
   "metadata": {},
   "outputs": [],
   "source": [
    "X = txs[['mempool_size']]\n",
    "y = txs['waittime']\n",
    "\n",
    "X_train, X_test, y_train, y_test = train_test_split(\n",
    "    X, y, test_size=0.2, random_state=42\n",
    ")\n",
    "\n",
    "model = LinearRegression().fit(X_train, y_train)\n",
    "train_r2 = model.score(X_train, y_train)\n",
    "test_r2 = model.score(X_test, y_test)\n",
    "\n",
    "# print coefficients\n",
    "print(\"\\nRegression results:\")\n",
    "print(f\"  Intercept: {model.intercept_:.4f}\")\n",
    "for feat, coef in zip(X.columns, model.coef_):\n",
    "    print(f\"Beta_{feat}: {coef:.4f}\")\n",
    "print(f\"Train R² = {train_r2:.4f}\")\n",
    "print(f\"Test R² = {test_r2:.4f}\")\n",
    "\n",
    "# scatter plot observed vs. predicted\n",
    "yhat = model.predict(X)\n",
    "plt.figure(figsize=(6,6))\n",
    "plt.scatter(y, yhat, alpha=0.3)\n",
    "plt.xlabel('Observed wait-time (seconds)')\n",
    "plt.ylabel('Predicted wait-time (seconds)')\n",
    "plt.title(f'Wait-time Model (Train R²={train_r2:.2f}, Test R²={test_r2:.2f})')\n",
    "plt.grid(True)\n"
   ]
  },
  {
   "cell_type": "code",
   "execution_count": null,
   "metadata": {},
   "outputs": [],
   "source": []
  },
  {
   "cell_type": "code",
   "execution_count": null,
   "metadata": {},
   "outputs": [],
   "source": []
  }
 ],
 "metadata": {
  "kernelspec": {
   "display_name": "venv",
   "language": "python",
   "name": "python3"
  },
  "language_info": {
   "codemirror_mode": {
    "name": "ipython",
    "version": 3
   },
   "file_extension": ".py",
   "mimetype": "text/x-python",
   "name": "python",
   "nbconvert_exporter": "python",
   "pygments_lexer": "ipython3",
   "version": "3.10.12"
  }
 },
 "nbformat": 4,
 "nbformat_minor": 2
}
